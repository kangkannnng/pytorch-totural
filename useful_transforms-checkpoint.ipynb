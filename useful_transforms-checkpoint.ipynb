{
 "cells": [
  {
   "metadata": {
    "ExecuteTime": {
     "end_time": "2024-05-09T06:51:17.084287Z",
     "start_time": "2024-05-09T06:51:16.089425Z"
    }
   },
   "cell_type": "code",
   "source": [
    "from PIL import Image\n",
    "from torchvision import transforms\n",
    "from torch.utils.tensorboard import SummaryWriter"
   ],
   "outputs": [],
   "execution_count": 1
  },
  {
   "cell_type": "code",
   "metadata": {
    "ExecuteTime": {
     "end_time": "2024-05-09T06:51:17.090873Z",
     "start_time": "2024-05-09T06:51:17.085272Z"
    }
   },
   "source": [
    "writer = SummaryWriter(\"logs\")\n",
    "img = Image.open(\"images/bee.jpg\")\n",
    "print(img)"
   ],
   "outputs": [
    {
     "name": "stdout",
     "output_type": "stream",
     "text": [
      "<PIL.JpegImagePlugin.JpegImageFile image mode=RGB size=500x366 at 0x7FF857D2EC60>\n"
     ]
    }
   ],
   "execution_count": 2
  },
  {
   "cell_type": "code",
   "metadata": {
    "ExecuteTime": {
     "end_time": "2024-05-09T06:51:17.176821Z",
     "start_time": "2024-05-09T06:51:17.091774Z"
    }
   },
   "source": [
    "tran_totensor = transforms.ToTensor()\n",
    "img_tensor = tran_totensor(img)\n",
    "\n",
    "writer.add_image(\"bee_tensor\", img_tensor)\n"
   ],
   "outputs": [],
   "execution_count": 3
  },
  {
   "cell_type": "code",
   "metadata": {
    "ExecuteTime": {
     "end_time": "2024-05-09T06:51:17.212345Z",
     "start_time": "2024-05-09T06:51:17.177697Z"
    }
   },
   "source": [
    "# print(img_tensor[0][0][0])\n",
    "tran_norm = transforms.Normalize(mean=[0.5, 0.5, 0.5], std=[0.5, 0.5, 0.5])\n",
    "img_norm = tran_norm(img_tensor)\n",
    "# print(img_norm[0][0][0])\n",
    "writer.add_image(\"bee_norm\", img_norm)"
   ],
   "outputs": [],
   "execution_count": 4
  },
  {
   "cell_type": "code",
   "metadata": {
    "ExecuteTime": {
     "end_time": "2024-05-09T06:51:17.327782Z",
     "start_time": "2024-05-09T06:51:17.213362Z"
    }
   },
   "source": [
    "# print(img.size)\n",
    "tran_resize = transforms.Resize((512, 512))\n",
    "img_resize = tran_resize(img)\n",
    "img_resize = tran_totensor(img_resize)\n",
    "writer.add_image(\"bee_resize\", img_resize, 0)\n",
    "# print(img_resize)"
   ],
   "outputs": [],
   "execution_count": 5
  },
  {
   "cell_type": "code",
   "metadata": {
    "ExecuteTime": {
     "end_time": "2024-05-09T06:51:17.482732Z",
     "start_time": "2024-05-09T06:51:17.328637Z"
    }
   },
   "source": [
    "tran_resize_2 = transforms.Resize(512)\n",
    "tran_compose = transforms.Compose([tran_resize_2, tran_totensor])\n",
    "img_resize_2 = tran_compose(img)\n",
    "writer.add_image(\"bee_resize\", img_resize_2, 1)"
   ],
   "outputs": [],
   "execution_count": 6
  },
  {
   "cell_type": "code",
   "metadata": {
    "ExecuteTime": {
     "end_time": "2024-05-09T06:51:17.553551Z",
     "start_time": "2024-05-09T06:51:17.483583Z"
    }
   },
   "source": [
    "tran_random = transforms.RandomCrop((128, 128))\n",
    "tran_compose_2 = transforms.Compose([tran_random, tran_totensor])\n",
    "for i in range(10):\n",
    "    img_crop = tran_compose_2(img)\n",
    "    writer.add_image(\"bee_crop\", img_crop, i)   "
   ],
   "outputs": [],
   "execution_count": 7
  },
  {
   "cell_type": "code",
   "metadata": {
    "ExecuteTime": {
     "end_time": "2024-05-09T06:51:17.556318Z",
     "start_time": "2024-05-09T06:51:17.554325Z"
    }
   },
   "source": [
    "writer.close()"
   ],
   "outputs": [],
   "execution_count": 8
  }
 ],
 "metadata": {
  "kernelspec": {
   "display_name": "pytorch",
   "language": "python",
   "name": "python3"
  },
  "language_info": {
   "codemirror_mode": {
    "name": "ipython",
    "version": 3
   },
   "file_extension": ".py",
   "mimetype": "text/x-python",
   "name": "python",
   "nbconvert_exporter": "python",
   "pygments_lexer": "ipython3",
   "version": "3.12.3"
  }
 },
 "nbformat": 4,
 "nbformat_minor": 2
}
