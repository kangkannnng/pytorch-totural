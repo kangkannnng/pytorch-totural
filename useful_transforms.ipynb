{
 "cells": [
  {
   "cell_type": "code",
   "execution_count": 4,
   "metadata": {
    "ExecuteTime": {
     "end_time": "2024-05-09T06:51:17.084287Z",
     "start_time": "2024-05-09T06:51:16.089425Z"
    }
   },
   "outputs": [],
   "source": [
    "from PIL import Image\n",
    "from torchvision import transforms\n",
    "from torch.utils.tensorboard import SummaryWriter"
   ]
  },
  {
   "cell_type": "code",
   "execution_count": 5,
   "metadata": {
    "ExecuteTime": {
     "end_time": "2024-05-09T06:51:17.090873Z",
     "start_time": "2024-05-09T06:51:17.085272Z"
    }
   },
   "outputs": [
    {
     "name": "stdout",
     "output_type": "stream",
     "text": [
      "<PIL.JpegImagePlugin.JpegImageFile image mode=RGB size=500x366 at 0x7F6A95BE0AD0>\n"
     ]
    }
   ],
   "source": [
    "writer = SummaryWriter(\"logs\")\n",
    "img = Image.open(\"images/bee.jpg\")\n",
    "# print(img)"
   ]
  },
  {
   "cell_type": "code",
   "execution_count": 6,
   "metadata": {
    "ExecuteTime": {
     "end_time": "2024-05-09T06:51:17.176821Z",
     "start_time": "2024-05-09T06:51:17.091774Z"
    }
   },
   "outputs": [],
   "source": [
    "tran_totensor = transforms.ToTensor()\n",
    "img_tensor = tran_totensor(img)\n",
    "\n",
    "writer.add_image(\"bee_tensor\", img_tensor)\n"
   ]
  },
  {
   "cell_type": "code",
   "execution_count": 7,
   "metadata": {
    "ExecuteTime": {
     "end_time": "2024-05-09T06:51:17.212345Z",
     "start_time": "2024-05-09T06:51:17.177697Z"
    }
   },
   "outputs": [],
   "source": [
    "# print(img_tensor[0][0][0])\n",
    "tran_norm = transforms.Normalize(mean=[0.5, 0.5, 0.5], std=[0.5, 0.5, 0.5])\n",
    "img_norm = tran_norm(img_tensor)\n",
    "# print(img_norm[0][0][0])\n",
    "writer.add_image(\"bee_norm\", img_norm)"
   ]
  },
  {
   "cell_type": "code",
   "execution_count": 8,
   "metadata": {
    "ExecuteTime": {
     "end_time": "2024-05-09T06:51:17.327782Z",
     "start_time": "2024-05-09T06:51:17.213362Z"
    }
   },
   "outputs": [],
   "source": [
    "# print(img.size)\n",
    "tran_resize = transforms.Resize((512, 512))\n",
    "img_resize = tran_resize(img)\n",
    "img_resize = tran_totensor(img_resize)\n",
    "writer.add_image(\"bee_resize\", img_resize, 0)\n",
    "# print(img_resize)"
   ]
  },
  {
   "cell_type": "code",
   "execution_count": 9,
   "metadata": {
    "ExecuteTime": {
     "end_time": "2024-05-09T06:51:17.482732Z",
     "start_time": "2024-05-09T06:51:17.328637Z"
    }
   },
   "outputs": [],
   "source": [
    "tran_resize_2 = transforms.Resize(512)\n",
    "tran_compose = transforms.Compose([tran_resize_2, tran_totensor])\n",
    "img_resize_2 = tran_compose(img)\n",
    "writer.add_image(\"bee_resize\", img_resize_2, 1)"
   ]
  },
  {
   "cell_type": "code",
   "execution_count": 10,
   "metadata": {
    "ExecuteTime": {
     "end_time": "2024-05-09T06:51:17.553551Z",
     "start_time": "2024-05-09T06:51:17.483583Z"
    }
   },
   "outputs": [],
   "source": [
    "tran_random = transforms.RandomCrop((128, 128))\n",
    "tran_compose_2 = transforms.Compose([tran_random, tran_totensor])\n",
    "for i in range(10):\n",
    "    img_crop = tran_compose_2(img)\n",
    "    writer.add_image(\"bee_crop\", img_crop, i)   "
   ]
  },
  {
   "cell_type": "code",
   "execution_count": 11,
   "metadata": {
    "ExecuteTime": {
     "end_time": "2024-05-09T06:51:17.556318Z",
     "start_time": "2024-05-09T06:51:17.554325Z"
    }
   },
   "outputs": [],
   "source": [
    "writer.close()"
   ]
  }
 ],
 "metadata": {
  "kernelspec": {
   "display_name": "pytorch",
   "language": "python",
   "name": "python3"
  },
  "language_info": {
   "codemirror_mode": {
    "name": "ipython",
    "version": 3
   },
   "file_extension": ".py",
   "mimetype": "text/x-python",
   "name": "python",
   "nbconvert_exporter": "python",
   "pygments_lexer": "ipython3",
   "version": "3.12.3"
  }
 },
 "nbformat": 4,
 "nbformat_minor": 2
}
