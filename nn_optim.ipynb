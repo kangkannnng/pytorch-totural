{
 "cells": [
  {
   "cell_type": "code",
   "execution_count": 3,
   "metadata": {},
   "outputs": [],
   "source": [
    "import torch\n",
    "from torch import nn\n",
    "import torchvision\n",
    "from torch.utils.data import DataLoader"
   ]
  },
  {
   "cell_type": "code",
   "execution_count": 4,
   "metadata": {},
   "outputs": [
    {
     "name": "stdout",
     "output_type": "stream",
     "text": [
      "Files already downloaded and verified\n",
      "epoch 0 loss: 18718.421584029682\n",
      "epoch 1 loss: 16157.51417620483\n",
      "epoch 2 loss: 15334.956840608575\n"
     ]
    }
   ],
   "source": [
    "device = torch.device('cuda:0' if torch.cuda.is_available() else 'cpu')  # 如果有可用的GPU，就使用GPU\n",
    "\n",
    "class Tudui(nn.Module):\n",
    "    def __init__(self):\n",
    "        super(Tudui, self).__init__()\n",
    "\n",
    "        self.model1 = nn.Sequential(\n",
    "            nn.Conv2d(3, 32, 5, padding=2),\n",
    "            nn.MaxPool2d(2),\n",
    "            nn.Conv2d(32, 32, 5, padding=2),\n",
    "            nn.MaxPool2d(2),\n",
    "            nn.Conv2d(32, 64, 5, padding=2),\n",
    "            nn.MaxPool2d(2),\n",
    "            nn.Flatten(),\n",
    "            nn.Linear(64*4*4, 64),\n",
    "            nn.Linear(64, 10)\n",
    "        )\n",
    "    \n",
    "    def forward(self, x):\n",
    "        x = self.model1(x)\n",
    "        return x\n",
    "\n",
    "dataset = torchvision.datasets.CIFAR10(root='./CIFAR', train=False, download=True, transform=torchvision.transforms.ToTensor())\n",
    "dataloader = DataLoader(dataset, batch_size=1)\n",
    "\n",
    "loss = nn.CrossEntropyLoss()\n",
    "tudui = Tudui().to(device)  # 将模型移动到GPU\n",
    "optim = torch.optim.SGD(tudui.parameters(), lr=0.01)\n",
    "\n",
    "for epoch in range(40):\n",
    "    running_loss = 0.0\n",
    "\n",
    "    for data in dataloader:\n",
    "        imgs, targets = data[0].to(device), data[1].to(device)  # 将数据移动到GPU\n",
    "        outputs = tudui(imgs)\n",
    "        result_loss = loss(outputs, targets)\n",
    "        optim.zero_grad()\n",
    "        result_loss.backward()\n",
    "        optim.step()\n",
    "        running_loss += result_loss.item()  # 使用.item()获取标量值\n",
    "    \n",
    "    print(f'epoch {epoch} loss: {running_loss}')"
   ]
  }
 ],
 "metadata": {
  "kernelspec": {
   "display_name": "pytorch",
   "language": "python",
   "name": "python3"
  },
  "language_info": {
   "codemirror_mode": {
    "name": "ipython",
    "version": 3
   },
   "file_extension": ".py",
   "mimetype": "text/x-python",
   "name": "python",
   "nbconvert_exporter": "python",
   "pygments_lexer": "ipython3",
   "version": "3.12.3"
  }
 },
 "nbformat": 4,
 "nbformat_minor": 2
}
